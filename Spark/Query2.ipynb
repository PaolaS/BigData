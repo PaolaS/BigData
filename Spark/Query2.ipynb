{
 "cells": [
  {
   "cell_type": "markdown",
   "metadata": {},
   "source": [
    "# QUERY 2"
   ]
  },
  {
   "cell_type": "markdown",
   "metadata": {},
   "source": [
    "weekly percentages of delays that are due to weather, throughout the entire data set"
   ]
  },
  {
   "cell_type": "markdown",
   "metadata": {},
   "source": [
    "### The dataset is composed in this way:\n",
    "\n",
    "<br>1 Year -> 1994-2008 \n",
    "<br>2 Month -> 1-12\n",
    "<br>3 DayofMonth -> 1-31\n",
    "<br>4 DayOfWeek -> 1 (Monday) - 7 (Sunday)\n",
    "<br>5 DepTime -> actual departure time (local, hhmm)\n",
    "<br>6 CRSDepTime -> scheduled departure time (local, hhmm)\n",
    "<br>7 ArrTime -> actual arrival time (local, hhmm)\n",
    "<br>8 CRSArrTime -> scheduled arrival time (local, hhmm)\n",
    "<br>9 UniqueCarrier -> unique carrier code\n",
    "<br>10 FlightNum -> flight number\n",
    "<br>11 TailNum -> plane tail number\n",
    "<br>12 ActualElapsedTime -> in minutes\n",
    "<br>13 CRSElapsedTime -> in minutes\n",
    "<br>14 AirTime -> in minutes\n",
    "<br>15 ArrDelay -> arrival delay, in minutes\n",
    "<br>16 DepDelay -> departure delay, in minutes\n",
    "<br>17 Origin -> origin IATA airport code\n",
    "<br>18 Dest -> destination IATA airport code\n",
    "<br>19 Distance -> in miles\n",
    "<br>20 TaxiIn -> taxi in time, in minutes\n",
    "<br>21 TaxiOut -> taxi out time in minutes\n",
    "<br>22 Cancelled -> was the flight cancelled?\n",
    "<br>23 CancellationCode -> reason for cancellation\n",
    "        (A = carrier, B = weather, C = NAS, D = security)\n",
    "<br>24 Diverted -> 1 = yes, 0 = no\n",
    "<br>25 CarrierDelay -> in minutes\n",
    "<br>26 WeatherDelay -> in minutes\n",
    "<br>27 NASDelay -> in minutes\n",
    "<br>28 SecurityDelay -> in minutes\n",
    "<br>29 LateAircraftDelay -> in minutes"
   ]
  },
  {
   "cell_type": "code",
   "execution_count": 9,
   "metadata": {},
   "outputs": [],
   "source": [
    "from pyspark.sql import SQLContext\n",
    "from pyspark.sql.functions import when\n",
    "from pyspark.sql.functions import to_date, col, lit, concat, weekofyear\n",
    "import pandas as pd\n",
    "\n",
    "sqlContext = SQLContext(sc)"
   ]
  },
  {
   "cell_type": "code",
   "execution_count": 1,
   "metadata": {
    "scrolled": true
   },
   "outputs": [],
   "source": [
    "def loadYearCsv(year):\n",
    "    filePath = \"./Data/\"+str(year)+\".csv\"\n",
    "\n",
    "#load dataset from csv file and then creates a dataframe \n",
    "    df = sqlContext.read.csv(filePath, header='true')\n",
    "\n",
    "#DataFrame[Year, Month, Day, DayOfWeek, WeatherDelay]\n",
    "    df = df.select(\"Year\", \"Month\", \"DayofMonth\", \"DayOfWeek\", \"WeatherDelay\" ) \\\n",
    "                .withColumnRenamed('DayofMonth', 'Day')\n",
    "    df = df.orderBy([\"Year\",\"Month\", \"Day\"] )\n",
    "\n",
    "#Add column Date (YYYY-MM-DD)\n",
    "#DataFrame[Year, Month, Day, DayOfWeek, WeatherDelay, Date]\n",
    "    df = df.withColumn('Date', \n",
    "            to_date(concat(col(\"Year\"), lit('-'), col(\"Month\"), lit('-'),col(\"Day\")))) \n",
    "\n",
    "#Add column week\n",
    "#DataFrame[Year:str, Month:str, Day:str, DayOfWeek:str, WeatherDelay:str, Date:str, Week:int]\n",
    "    df = df.withColumn(\"Week\", weekofyear(df[\"Date\"]))\n",
    "    return df"
   ]
  },
  {
   "cell_type": "code",
   "execution_count": 2,
   "metadata": {},
   "outputs": [],
   "source": [
    "#if the first day of the year is Mon-Thu returns true, otherwise false\n",
    "def fromMonToThu(df):\n",
    "    if(int(df.first().DayOfWeek) <= 4):\n",
    "        return True\n",
    "    else:\n",
    "        return False"
   ]
  },
  {
   "cell_type": "code",
   "execution_count": 3,
   "metadata": {},
   "outputs": [],
   "source": [
    "#if the last day of the year is Thu-Sun returns true, otherwise false\n",
    "def fromThuToSun(df):\n",
    "    if(int(df.first().DayOfWeek) >= 4):\n",
    "        return True\n",
    "    else:\n",
    "        return False"
   ]
  },
  {
   "cell_type": "code",
   "execution_count": 4,
   "metadata": {},
   "outputs": [],
   "source": [
    "# It has been chosen to work on dataframe with weeks from 1 to 52/53, instead of working on \n",
    "# year based dataframes. This function adjust the dataframe accordingly\n",
    "\n",
    "def fixFirstRows(df, year):\n",
    "    if (fromMonToThu(df)):\n",
    "        if(df.first().DayOfWeek != '1'):\n",
    "            #No problem for year = 1994\n",
    "            dfTmp = loadYearCsv(year-1)\n",
    "            dfTmp = dfTmp.where((col(\"Month\") == '12') & (col(\"Week\") == 1) & (col(\"Year\") == str(year-1)))\n",
    "            dfTmp = dfTmp.union(df)\n",
    "        else:\n",
    "            return df\n",
    "    else:\n",
    "        dfTmp = df.where((col(\"Month\")!='1' )|(col(\"Week\") < 52))\n",
    "        dfTmp = dfTmp.orderBy(\"Date\")\n",
    "    return dfTmp\n"
   ]
  },
  {
   "cell_type": "code",
   "execution_count": 5,
   "metadata": {},
   "outputs": [],
   "source": [
    "# It has been chosen to work on dataframe with weeks from 1 to 52/53, instead of working on \n",
    "# year based dataframes. This function adjust the dataframe accordingly\n",
    "\n",
    "def fixLastRows(df, year):\n",
    "    #This is used to check which is the week day of the 31st of december\n",
    "    dfTmp = df.where(col(\"Year\") == str(year)).orderBy([\"Date\"], ascending = False )\n",
    "    if (fromThuToSun(dfTmp)):\n",
    "        if (dfTmp.first().DayOfWeek == '7'):\n",
    "            return df\n",
    "        else:\n",
    "            # --> week >= 52\n",
    "            #no problem for year = 2008\n",
    "            dfTmp = loadYearCsv(year+1)\n",
    "            dfTmp = dfTmp.where((col(\"Month\") == '1') & (col(\"Week\") >= 52))\n",
    "            df = df.union(dfTmp)\n",
    "            \n",
    "    else: \n",
    "        # --> Week = 1\n",
    "        df = df.where((col(\"Month\") != '12') | (col(\"Week\") != 1) | (col(\"Year\") == str(year-1)))\n",
    "    return df      "
   ]
  },
  {
   "cell_type": "code",
   "execution_count": 6,
   "metadata": {
    "scrolled": true
   },
   "outputs": [],
   "source": [
    "def weeklyDelays(year):    \n",
    "\n",
    "    #DataFrame[Year, Month, Day, DayOfWeek, WeatherDelay, Date, Week]\n",
    "    df = loadYearCsv(year)\n",
    "    df = fixFirstRows(df, year)\n",
    "    df = fixLastRows(df, year)\n",
    "\n",
    "    #DataFrame[Date, DayOfWeek, Week]\n",
    "    d0 = df.select(\"Date\", \"DayOfWeek\", \"Week\")\n",
    "\n",
    "    #DataFrame[Date, Week, WeatherDelay]\n",
    "    df = df.select(\"Date\", \"Week\", \"WeatherDelay\")\n",
    "    df = df.orderBy(\"Date\")\n",
    "    \n",
    "    #### df1\n",
    "    #DataFrame[Date, Week, FlightsPerDay]\n",
    "    df1 = df.groupBy(\"Date\", \"Week\").count() \\\n",
    "            .withColumnRenamed(\"count\", \"FlightsPerDay\")\n",
    "    \n",
    "    #DataFrame[Week, FlightsPerWeek]\n",
    "    df1 = df1.groupBy(\"Week\").sum(\"FlightsPerDay\") \\\n",
    "            .withColumnRenamed(\"sum(FlightsPerDay)\", \"FlightsPerWeek\")\n",
    "    ####df2\n",
    "    #Delays filtered so that there are no 0 or NA values\n",
    "    #DataFrame[Date, Week, DelaysPerDay]\n",
    "    df2 = df.filter(df[\"WeatherDelay\"]!= 'NA') \\\n",
    "            .filter(df[\"WeatherDelay\"]>0) \\\n",
    "            .groupBy(\"Date\", \"Week\").count() \\\n",
    "            .withColumnRenamed(\"count\", \"DelaysPerDay\")\n",
    "    \n",
    "    #DataFrame[Week, DelaysPerWeek]\n",
    "    df2 = df2.groupBy(\"Week\").sum(\"DelaysPerDay\") \\\n",
    "            .withColumnRenamed(\"sum(DelaysPerDay)\", \"DelaysPerWeek\")\n",
    "    \n",
    "    ####join df1 and df2\n",
    "    #DataFrame[Week, FlightsPerWeek, DelaysPerWeek]\n",
    "    df = df1.join(df2, [\"Week\"], how = 'left')\n",
    "    df = df.na.fill(0)\n",
    "    df = df.orderBy(\"Week\")\n",
    "    \n",
    "    ####compute the percentage of delayed flights per week\n",
    "    #DataFrame[Week, FlightsPerWeek, DelaysPerWeek, percDelaysPerWeek]\n",
    "    df = df.withColumn('PercDelaysPerWeek', df[\"DelaysPerWeek\"]/df[\"FlightsPerWeek\"])\n",
    "    \n",
    "    ####prepare week's start date and end date\n",
    "    startDay = d0.filter(col(\"DayOfWeek\") == '1').drop(\"DayOfWeek\").distinct() \\\n",
    "            .withColumnRenamed(\"Date\", \"StartDay\")\n",
    "    endDay = d0.filter(col(\"DayOfWeek\") == '7').drop(\"DayOfWeek\").distinct() \\\n",
    "            .withColumnRenamed(\"Date\", \"EndDay\")\n",
    "    \n",
    "    #DataFrame[Week, StartDay, EndDay]\n",
    "    d0 = startDay.join(endDay, \"Week\")\n",
    "    \n",
    "    ####final dataframe\n",
    "    #DataFrame[Week, FlightsPerWeek, DelaysPerWeek, percDelaysPerWeek, StartDay, EndDay]\n",
    "    df = df.join(d0, \"Week\")\n",
    "    \n",
    "    #comment the line below if you want that the output shows also weeks with no delay\n",
    "    df = df.where(col(\"DelaysPerWeek\")!=0)\n",
    "    df = df.withColumn(\"YearWeek\", concat(lit(year), lit('-'), col(\"Week\")))\n",
    "    df = df.select(\"YearWeek\", \"FlightsPerWeek\", \"DelaysPerWeek\", \"PercDelaysPerWeek\")\n",
    "    df = df.orderBy(\"YearWeek\")\n",
    "     \n",
    "    return df\n",
    "\n"
   ]
  },
  {
   "cell_type": "code",
   "execution_count": 8,
   "metadata": {
    "scrolled": false
   },
   "outputs": [],
   "source": [
    "finalPath = \"./Results/Query2/query2.csv\"\n",
    "years = list(range(1994, 2009,1))\n",
    "\n",
    "with open(finalPath, 'a') as f:\n",
    "    for y in years:\n",
    "        tmpDf = weeklyDelays(y)\n",
    "        if (y==1994):\n",
    "            tmpDf.toPandas().to_csv(f, header=True)\n",
    "        else:\n",
    "            tmpDf.toPandas().to_csv(f, header=False)\n",
    "\n"
   ]
  }
 ],
 "metadata": {
  "kernelspec": {
   "display_name": "Python 3",
   "language": "python",
   "name": "python3"
  },
  "language_info": {
   "codemirror_mode": {
    "name": "ipython",
    "version": 3
   },
   "file_extension": ".py",
   "mimetype": "text/x-python",
   "name": "python",
   "nbconvert_exporter": "python",
   "pygments_lexer": "ipython3",
   "version": "3.7.0"
  }
 },
 "nbformat": 4,
 "nbformat_minor": 2
}
