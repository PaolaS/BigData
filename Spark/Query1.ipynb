{
 "cells": [
  {
   "cell_type": "markdown",
   "metadata": {},
   "source": [
    "# QUERY 1\n"
   ]
  },
  {
   "cell_type": "markdown",
   "metadata": {},
   "source": [
    "The percentage of canceled flights per day, throughout the entire data set"
   ]
  },
  {
   "cell_type": "markdown",
   "metadata": {},
   "source": [
    "### The dataset is composed in this way:\n",
    "\n",
    "<br>1 Year -> 1994-2008 \n",
    "<br>2 Month -> 1-12\n",
    "<br>3 DayofMonth -> 1-31\n",
    "<br>4 DayOfWeek -> 1 (Monday) - 7 (Sunday)\n",
    "<br>5 DepTime -> actual departure time (local, hhmm)\n",
    "<br>6 CRSDepTime -> scheduled departure time (local, hhmm)\n",
    "<br>7 ArrTime -> actual arrival time (local, hhmm)\n",
    "<br>8 CRSArrTime -> scheduled arrival time (local, hhmm)\n",
    "<br>9 UniqueCarrier -> unique carrier code\n",
    "<br>10 FlightNum -> flight number\n",
    "<br>11 TailNum -> plane tail number\n",
    "<br>12 ActualElapsedTime -> in minutes\n",
    "<br>13 CRSElapsedTime -> in minutes\n",
    "<br>14 AirTime -> in minutes\n",
    "<br>15 ArrDelay -> arrival delay, in minutes\n",
    "<br>16 DepDelay -> departure delay, in minutes\n",
    "<br>17 Origin -> origin IATA airport code\n",
    "<br>18 Dest -> destination IATA airport code\n",
    "<br>19 Distance -> in miles\n",
    "<br>20 TaxiIn -> taxi in time, in minutes\n",
    "<br>21 TaxiOut -> taxi out time in minutes\n",
    "<br>22 Cancelled -> was the flight cancelled?\n",
    "<br>23 CancellationCode -> reason for cancellation\n",
    "        (A = carrier, B = weather, C = NAS, D = security)\n",
    "<br>24 Diverted -> 1 = yes, 0 = no\n",
    "<br>25 CarrierDelay -> in minutes\n",
    "<br>26 WeatherDelay -> in minutes\n",
    "<br>27 NASDelay -> in minutes\n",
    "<br>28 SecurityDelay -> in minutes\n",
    "<br>29 LateAircraftDelay -> in minutes"
   ]
  },
  {
   "cell_type": "code",
   "execution_count": 1,
   "metadata": {},
   "outputs": [],
   "source": [
    "from pyspark.sql import SQLContext\n",
    "from pyspark.sql import functions as F\n",
    "import pandas as pd\n",
    "sqlContext = SQLContext(sc)"
   ]
  },
  {
   "cell_type": "code",
   "execution_count": 2,
   "metadata": {},
   "outputs": [],
   "source": [
    "# Given a year, it returns a dataframe like this:\n",
    "# DataFrame[Year, Month, Day, FlightsPerDay, CancFlightsPerDay, PercCancelled]\n",
    "def percentageCancelledFlights(year):\n",
    "\n",
    "    year = str(year)\n",
    "    filePath = \"./Data/\"+year+\".csv\"\n",
    "    \n",
    "    #load dataset from csv file and then creates a dataframe \n",
    "    flightsDateCanc = sqlContext.read.csv(filePath, header='true')\n",
    "\n",
    "    #DataFrame[Year, Month, Day, Cancelled]\n",
    "    flightsDateCanc = flightsDateCanc.select(\"Year\", \"Month\", \n",
    "                            \"DayofMonth\", \"Cancelled\").withColumnRenamed('DayofMonth', 'Day')\n",
    "\n",
    "    #DataFrame[Year, Month, Day, FlightsPerDay]\n",
    "    allFlights = flightsDateCanc.groupBy(\"Year\", \"Month\", \"Day\").count().withColumnRenamed(\"count\", \"FlightsPerDay\")\n",
    "\n",
    "    #DataFrame[Year, Month, Day, CancFlightsPerDay]\n",
    "    cancFlights = flightsDateCanc.filter(flightsDateCanc[\"Cancelled\"] == 1).groupBy(\"Year\", \"Month\", \"Day\") \\\n",
    "            .count().withColumnRenamed(\"count\", \"CancFlightsPerDay\")\n",
    "\n",
    "    #DataFrame[Year, Month, Day, FlightsPerDay, CancFlightsPerDay]\n",
    "    percCancFlights = allFlights.join(cancFlights, [\"Year\", \"Month\", \"Day\"])\n",
    "    \n",
    "    #DataFrame[Year, Month, Day, FlightsPerDay, CancFlightsPerDay, PercCancelled]\n",
    "    percCancFlights = percCancFlights.withColumn('PercCancelled', percCancFlights[\"CancFlightsPerDay\"]/percCancFlights[\"FlightsPerDay\"])\n",
    "    \n",
    "    #Orders by date\n",
    "    percCancFlights = percCancFlights.withColumn(\"Month\", percCancFlights.Month.cast(\"int\"))\n",
    "    percCancFlights = percCancFlights.withColumn(\"Day\", percCancFlights.Day.cast(\"int\"))\n",
    "    percCancFlights = percCancFlights.orderBy(\"Year\", \"Month\", \"Day\")\n",
    "\n",
    "    return percCancFlights"
   ]
  },
  {
   "cell_type": "code",
   "execution_count": 4,
   "metadata": {
    "scrolled": true
   },
   "outputs": [],
   "source": [
    "finalPath = \"./Results/Query1/query1.csv\"\n",
    "years = list(range(1994, 2009,1))\n",
    "\n",
    "with open(finalPath, 'a') as f:\n",
    "    for y in years:\n",
    "        tmpDf = percentageCancelledFlights(y)\n",
    "        if (y==1994):\n",
    "            tmpDf.toPandas().to_csv(f, header=True)\n",
    "        else:\n",
    "            tmpDf.toPandas().to_csv(f, header=False)\n"
   ]
  }
 ],
 "metadata": {
  "kernelspec": {
   "display_name": "Python 3",
   "language": "python",
   "name": "python3"
  },
  "language_info": {
   "codemirror_mode": {
    "name": "ipython",
    "version": 3
   },
   "file_extension": ".py",
   "mimetype": "text/x-python",
   "name": "python",
   "nbconvert_exporter": "python",
   "pygments_lexer": "ipython3",
   "version": "3.7.0"
  }
 },
 "nbformat": 4,
 "nbformat_minor": 2
}
