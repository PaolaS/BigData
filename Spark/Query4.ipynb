{
 "cells": [
  {
   "cell_type": "markdown",
   "metadata": {},
   "source": [
    "# Query 4"
   ]
  },
  {
   "cell_type": "markdown",
   "metadata": {},
   "source": [
    "a weekly \"penalty\" score for each airport that depends on both the its incoming and outgoing flights. The score adds 0.5 for each incoming flight that is more than 15 minutes late, and 1 for each outgoing flight that is more than 15 minutes late."
   ]
  },
  {
   "cell_type": "markdown",
   "metadata": {},
   "source": [
    "### The dataset is composed in this way:\n",
    "\n",
    "<br>1 Year -> 1994-2008 \n",
    "<br>2 Month -> 1-12\n",
    "<br>3 DayofMonth -> 1-31\n",
    "<br>4 DayOfWeek -> 1 (Monday) - 7 (Sunday)\n",
    "<br>5 DepTime -> actual departure time (local, hhmm)\n",
    "<br>6 CRSDepTime -> scheduled departure time (local, hhmm)\n",
    "<br>7 ArrTime -> actual arrival time (local, hhmm)\n",
    "<br>8 CRSArrTime -> scheduled arrival time (local, hhmm)\n",
    "<br>9 UniqueCarrier -> unique carrier code\n",
    "<br>10 FlightNum -> flight number\n",
    "<br>11 TailNum -> plane tail number\n",
    "<br>12 ActualElapsedTime -> in minutes\n",
    "<br>13 CRSElapsedTime -> in minutes\n",
    "<br>14 AirTime -> in minutes\n",
    "<br>15 ArrDelay -> arrival delay, in minutes\n",
    "<br>16 DepDelay -> departure delay, in minutes\n",
    "<br>17 Origin -> origin IATA airport code\n",
    "<br>18 Dest -> destination IATA airport code\n",
    "<br>19 Distance -> in miles\n",
    "<br>20 TaxiIn -> taxi in time, in minutes\n",
    "<br>21 TaxiOut -> taxi out time in minutes\n",
    "<br>22 Cancelled -> was the flight cancelled?\n",
    "<br>23 CancellationCode -> reason for cancellation\n",
    "        (A = carrier, B = weather, C = NAS, D = security)\n",
    "<br>24 Diverted -> 1 = yes, 0 = no\n",
    "<br>25 CarrierDelay -> in minutes\n",
    "<br>26 WeatherDelay -> in minutes\n",
    "<br>27 NASDelay -> in minutes\n",
    "<br>28 SecurityDelay -> in minutes\n",
    "<br>29 LateAircraftDelay -> in minutes"
   ]
  },
  {
   "cell_type": "code",
   "execution_count": 1,
   "metadata": {},
   "outputs": [],
   "source": [
    "from pyspark.sql import SQLContext\n",
    "from pyspark.sql.functions import when\n",
    "from pyspark.sql.functions import to_date, col, lit, concat, weekofyear\n",
    "from pyspark.sql.types import IntegerType\n",
    "import pandas as pd\n",
    "import math\n",
    "\n",
    "sqlContext = SQLContext(sc)"
   ]
  },
  {
   "cell_type": "code",
   "execution_count": 2,
   "metadata": {},
   "outputs": [],
   "source": [
    "def loadYearCsv(year):\n",
    "    filePath = \"./Data/\"+str(year)+\".csv\"\n",
    "\n",
    "#load dataset from csv file and then creates a dataframe \n",
    "    df = sqlContext.read.csv(filePath, header='true')\n",
    "\n",
    "#DataFrame[Year, Month, Day, DayOfWeek, WeatherDelay]\n",
    "    df = df.select(\"Year\", \"Month\", \"DayofMonth\", \"DayOfWeek\", \"Origin\", \"DepDelay\", \"Dest\", \"ArrDelay\" ) \\\n",
    "                .withColumnRenamed('DayofMonth', 'Day')\n",
    "    df = df.orderBy([\"Year\",\"Month\", \"Day\"] )\n",
    "\n",
    "#Add column Date (YYYY-MM-DD)\n",
    "#DataFrame[Year, Month, Day, DayOfWeek, WeatherDelay, Date]\n",
    "    df = df.withColumn('Date', \n",
    "            to_date(concat(col(\"Year\"), lit('-'), col(\"Month\"), lit('-'),col(\"Day\")))) \n",
    "\n",
    "#Add column week\n",
    "#DataFrame[Year:str, Month:str, Day:str, WeatherDelay, Date:str, Week:int]\n",
    "    df = df.withColumn(\"Week\", weekofyear(df[\"Date\"]))\n",
    "    \n",
    "# DataFrame[Year: string, Month: string, Day: string, DayOfWeek: string, Origin: string, \n",
    "#          DepDelay: string, Dest: string, ArrDelay: string, Date: date, Week: int]\n",
    "    return df"
   ]
  },
  {
   "cell_type": "code",
   "execution_count": 3,
   "metadata": {},
   "outputs": [],
   "source": [
    "#if the first day of the year is Mon-Thu returns true, otherwise false\n",
    "def fromMonToThu(df):\n",
    "    if(int(df.first().DayOfWeek) <= 4):\n",
    "        return True\n",
    "    else:\n",
    "        return False"
   ]
  },
  {
   "cell_type": "code",
   "execution_count": 4,
   "metadata": {},
   "outputs": [],
   "source": [
    "#if the last day of the year is Thu-Sun returns true, otherwise false\n",
    "def fromThuToSun(df):\n",
    "    if(int(df.first().DayOfWeek) >= 4):\n",
    "        return True\n",
    "    else:\n",
    "        return False"
   ]
  },
  {
   "cell_type": "code",
   "execution_count": 5,
   "metadata": {},
   "outputs": [],
   "source": [
    "# It has been chosen to work on dataframes with weeks from 1 to 52/53, instead of working on \n",
    "# year based dataframes. This function adjust the dataframe accordingly\n",
    "\n",
    "def fixFirstRows(df, year):\n",
    "    if (fromMonToThu(df)):\n",
    "        if(df.first().DayOfWeek != '1'):\n",
    "            #No problem for year = 1994\n",
    "            dfTmp = loadYearCsv(year-1)\n",
    "            dfTmp = dfTmp.where((col(\"Month\") == '12') & (col(\"Week\") == 1) & (col(\"Year\") == str(year-1)))\n",
    "            dfTmp = dfTmp.union(df)\n",
    "        else:\n",
    "            return df\n",
    "    else:\n",
    "        dfTmp = df.where((col(\"Month\")!='1' )|(col(\"Week\") < 52))\n",
    "        dfTmp = dfTmp.orderBy(\"Date\")\n",
    "    return dfTmp\n",
    "\n"
   ]
  },
  {
   "cell_type": "code",
   "execution_count": 6,
   "metadata": {},
   "outputs": [],
   "source": [
    "# It has been chosen to work on dataframes with weeks from 1 to 52/53, instead of working on \n",
    "# year based dataframes. This function adjust the dataframe accordingly\n",
    "\n",
    "def fixLastRows(df, year):\n",
    "    #This is used to check which is the week day of the 31st of december\n",
    "    dfTmp = df.where(col(\"Year\") == str(year)).orderBy([\"Date\"], ascending = False )\n",
    "    if (fromThuToSun(dfTmp)):\n",
    "        if (dfTmp.first().DayOfWeek == '7'):\n",
    "            return df\n",
    "        else:\n",
    "            # --> week >= 52\n",
    "            #no problem for year = 2008\n",
    "            dfTmp = loadYearCsv(year+1)\n",
    "            dfTmp = dfTmp.where((col(\"Month\") == '1') & (col(\"Week\") >= 52))\n",
    "            df = df.union(dfTmp)\n",
    "            \n",
    "    else: \n",
    "        # --> Week = 1\n",
    "        df = df.where((col(\"Month\") != '12') | (col(\"Week\") != 1) | (col(\"Year\") == str(year-1)))\n",
    "    return df      "
   ]
  },
  {
   "cell_type": "code",
   "execution_count": 7,
   "metadata": {},
   "outputs": [],
   "source": [
    "def startEndWeek(df):\n",
    "\n",
    "    d0 = df.select(\"Date\", \"DayOfWeek\", \"Week\")\n",
    "    ####prepares week's start date and end date\n",
    "    startDay = d0.filter(col(\"DayOfWeek\") == '1').drop(\"DayOfWeek\").distinct() \\\n",
    "                .withColumnRenamed(\"Date\", \"StartDay\")\n",
    "    endDay = d0.filter(col(\"DayOfWeek\") == '7').drop(\"DayOfWeek\").distinct() \\\n",
    "                .withColumnRenamed(\"Date\", \"EndDay\")\n",
    "    #DataFrame[Week, StartDay, EndDay]\n",
    "    d0 = startDay.join(endDay, \"Week\")\n",
    "    \n",
    "    return d0"
   ]
  },
  {
   "cell_type": "code",
   "execution_count": 8,
   "metadata": {},
   "outputs": [],
   "source": [
    "def checkPenalty(year):    \n",
    "    \n",
    "    df = loadYearCsv(year)\n",
    "    df = fixFirstRows(df, year)\n",
    "    df = fixLastRows(df, year)\n",
    "    \n",
    "    ## Checks done through data exploration: \n",
    "    #     - no origin or destination airport with NA values\n",
    "\n",
    "    # df1 is for departure airports\n",
    "    #DataFrame[Date: date, Week: int, Origin: string, DepDelay: string]\n",
    "    df1 = df.select(\"Week\", \"Origin\", \"DepDelay\")\n",
    "    df1 = df1.filter(col(\"DepDelay\") != 'NA').filter(col(\"DepDelay\") > 15)\n",
    "    df1 = df1.groupBy(\"Origin\", \"Week\").count() \\\n",
    "            .withColumnRenamed(\"count\", \"OutgoingDelaysPerAirport\")\n",
    "    df1 = df1.orderBy(\"Origin\", \"Week\")\n",
    "\n",
    "    # df2 is for destination airports\n",
    "    #DataFrame[Date: date, Week: int, Dest: string, ArrDelay: string]\n",
    "    df2 = df.select(\"Week\", \"Dest\", \"ArrDelay\").withColumnRenamed(\"Week\", \"WeekNumber\")\n",
    "    df2 = df2.filter(col(\"ArrDelay\") != 'NA').filter(col(\"ArrDelay\") > 15)\n",
    "    df2 = df2.groupBy(\"Dest\", \"WeekNumber\").count() \\\n",
    "            .withColumnRenamed(\"count\", \"IncomingDelaysPerAirport\")\n",
    "    df2 = df2.orderBy(\"Dest\", \"WeekNumber\")\n",
    "\n",
    "    # computes first and last day of the week\n",
    "    d0 = startEndWeek(df)\n",
    "\n",
    "    #We build the condition that has to be satisfied for the join\n",
    "    cond = [df1.Origin == df2.Dest, df1.Week == df2.WeekNumber]\n",
    "    dfFinale = df1.join(df2, cond)\n",
    "    dfFinale = dfFinale.drop(\"WeekNumber\", \"Origin\").withColumnRenamed(\"Dest\", \"Airport\")\n",
    "    \n",
    "    #Adds first and last day of the week\n",
    "    dfFinale = dfFinale.join(d0, \"Week\")\n",
    "    dfFinale = dfFinale.select(\"Airport\", \"Week\", \"StartDay\", \"EndDay\",\n",
    "                               \"IncomingDelaysPerAirport\", \"OutgoingDelaysPerAirport\")\n",
    "\n",
    "    #Computes the penalty\n",
    "    dfFinale = dfFinale.withColumn(\"Penalty\", 0.5*(dfFinale.IncomingDelaysPerAirport)+(dfFinale.OutgoingDelaysPerAirport))\n",
    "\n",
    "    #Creates column \"Year-Week\" (YYYY-ww)\n",
    "    dfFinale = dfFinale.withColumn(\"YearWeek\", concat(lit(year), lit('-'), col(\"Week\")))\n",
    "    dfFinale = dfFinale.select(\"YearWeek\", \"Airport\", \"StartDay\", \"EndDay\", \"IncomingDelaysPerAirport\", \"OutgoingDelaysPerAirport\", \"Penalty\")\n",
    "    dfFinale = dfFinale.orderBy(\"YearWeek\", \"Airport\")\n",
    "\n",
    "    #DataFrame[YearWeek, Airport, StartDay, EndDay, IncomingDelaysPerAirport, OutgoingDelaysPerAirport, Penalty]\n",
    "    return dfFinale\n"
   ]
  },
  {
   "cell_type": "code",
   "execution_count": 9,
   "metadata": {},
   "outputs": [],
   "source": [
    "finalPath = \"./Results/Query4/query4.csv\"\n",
    "years = list(range(1994, 2009,1))\n",
    "\n",
    "with open(finalPath, 'a') as f:\n",
    "    for y in years:\n",
    "        tmpDf = checkPenalty(y)\n",
    "        if (y==1994):\n",
    "            tmpDf.toPandas().to_csv(f, header=True)\n",
    "        else:\n",
    "            tmpDf.toPandas().to_csv(f, header=False)"
   ]
  }
 ],
 "metadata": {
  "kernelspec": {
   "display_name": "Python 3",
   "language": "python",
   "name": "python3"
  },
  "language_info": {
   "codemirror_mode": {
    "name": "ipython",
    "version": 3
   },
   "file_extension": ".py",
   "mimetype": "text/x-python",
   "name": "python",
   "nbconvert_exporter": "python",
   "pygments_lexer": "ipython3",
   "version": "3.7.0"
  }
 },
 "nbformat": 4,
 "nbformat_minor": 2
}
