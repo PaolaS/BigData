{
 "cells": [
  {
   "cell_type": "markdown",
   "metadata": {},
   "source": [
    "# Query 3"
   ]
  },
  {
   "cell_type": "markdown",
   "metadata": {},
   "source": [
    "the percentage of flights belonging to a given \"distance group\" that were able to \n",
    "    halve their departure delays by the time they arrived at their destinations. \n",
    "    Distance groups assort flights by their total distance in miles. Flights with distances\n",
    "    that are less than 200 miles belong in group 1, flights with distances that are between \n",
    "    200 and 399 miles belong in group 2, flights with distances that are between 400 and 599 \n",
    "    miles belong in group 3, and so on. The last group contains flights whose distances are \n",
    "    between 2400 and 2599 miles."
   ]
  },
  {
   "cell_type": "markdown",
   "metadata": {},
   "source": [
    "### The dataset is composed in this way:\n",
    "\n",
    "<br>1 Year -> 1994-2008 \n",
    "<br>2 Month -> 1-12\n",
    "<br>3 DayofMonth -> 1-31\n",
    "<br>4 DayOfWeek -> 1 (Monday) - 7 (Sunday)\n",
    "<br>5 DepTime -> actual departure time (local, hhmm)\n",
    "<br>6 CRSDepTime -> scheduled departure time (local, hhmm)\n",
    "<br>7 ArrTime -> actual arrival time (local, hhmm)\n",
    "<br>8 CRSArrTime -> scheduled arrival time (local, hhmm)\n",
    "<br>9 UniqueCarrier -> unique carrier code\n",
    "<br>10 FlightNum -> flight number\n",
    "<br>11 TailNum -> plane tail number\n",
    "<br>12 ActualElapsedTime -> in minutes\n",
    "<br>13 CRSElapsedTime -> in minutes\n",
    "<br>14 AirTime -> in minutes\n",
    "<br>15 ArrDelay -> arrival delay, in minutes\n",
    "<br>16 DepDelay -> departure delay, in minutes\n",
    "<br>17 Origin -> origin IATA airport code\n",
    "<br>18 Dest -> destination IATA airport code\n",
    "<br>19 Distance -> in miles\n",
    "<br>20 TaxiIn -> taxi in time, in minutes\n",
    "<br>21 TaxiOut -> taxi out time in minutes\n",
    "<br>22 Cancelled -> was the flight cancelled?\n",
    "<br>23 CancellationCode -> reason for cancellation\n",
    "        (A = carrier, B = weather, C = NAS, D = security)\n",
    "<br>24 Diverted -> 1 = yes, 0 = no\n",
    "<br>25 CarrierDelay -> in minutes\n",
    "<br>26 WeatherDelay -> in minutes\n",
    "<br>27 NASDelay -> in minutes\n",
    "<br>28 SecurityDelay -> in minutes\n",
    "<br>29 LateAircraftDelay -> in minutes"
   ]
  },
  {
   "cell_type": "code",
   "execution_count": 1,
   "metadata": {},
   "outputs": [],
   "source": [
    "from pyspark.sql import SQLContext\n",
    "from pyspark.sql.functions import when\n",
    "from pyspark.sql.functions import udf\n",
    "from pyspark.sql.functions import to_date, col, lit, concat, weekofyear\n",
    "from pyspark.sql.types import IntegerType\n",
    "import pandas as pd\n",
    "import math\n",
    "\n",
    "sqlContext = SQLContext(sc)"
   ]
  },
  {
   "cell_type": "code",
   "execution_count": 2,
   "metadata": {},
   "outputs": [],
   "source": [
    "def loadYearCsv(year):\n",
    "    filePath = \"./Data/\"+str(year)+\".csv\"\n",
    "    \n",
    "#load dataset from csv file and then creates a dataframe \n",
    "    df = sqlContext.read.csv(filePath, header='true')\n",
    "\n",
    "#DataFrame[\"Distance\", \"DepDelay\", \"ArrDelay\"]\n",
    "    df = df.select(\"Distance\", \"DepDelay\", \"ArrDelay\") \\\n",
    "        .filter(df[\"DepDelay\"] != 'NA') \\\n",
    "        .filter(df[\"ArrDelay\"] != 'NA') \\\n",
    "        .filter(df[\"Distance\"] <= 2599) \n",
    "    \n",
    "    return df"
   ]
  },
  {
   "cell_type": "code",
   "execution_count": 3,
   "metadata": {},
   "outputs": [],
   "source": [
    "# Assign to different distance group based on the distance\n",
    "def distanceGroup(dist):\n",
    "    dist = int(dist)\n",
    "    distGroup = math.floor(dist/200)+1\n",
    "    return distGroup"
   ]
  },
  {
   "cell_type": "code",
   "execution_count": 4,
   "metadata": {},
   "outputs": [],
   "source": [
    "# Returns 1 if the arrival delay is the half of the departure delay\n",
    "def delayDifference(depDelay, arrDelay):\n",
    "    depDelay = int(depDelay)\n",
    "    arrDelay = int(arrDelay)\n",
    "    if (depDelay <0):\n",
    "        return 0\n",
    "    if ( depDelay >= 2*arrDelay):\n",
    "        return 1\n",
    "    else:\n",
    "        return 0"
   ]
  },
  {
   "cell_type": "code",
   "execution_count": 7,
   "metadata": {},
   "outputs": [],
   "source": [
    "def halvesDelay(year):\n",
    "    df = loadYearCsv(year)\n",
    "    udf_distanceGroup = udf(distanceGroup, IntegerType())\n",
    "    udf_delayDifference = udf(delayDifference, IntegerType())\n",
    "\n",
    "    #DataFrame[Distance, DepDelay, ArrDelay, DistGroup, HalvesDelay]\n",
    "    df = df.withColumn('DistGroup', udf_distanceGroup(\"Distance\")) \n",
    "    df = df.withColumn('HalvesDelay', udf_delayDifference(df.DepDelay, df.ArrDelay))\n",
    "\n",
    "    # Counts total of flights per distance group\n",
    "    #DataFrame[DistGroup, FlightsPerDistGroup]\n",
    "    df1 = df.groupBy(\"DistGroup\").count().withColumnRenamed(\"count\", \"FlightsPerDistGroup\")\n",
    "\n",
    "    # Counts the amount of flights that halve the delay based on the distance group\n",
    "    #DataFrame[DistGroup, HalvedPerDistGroup]\n",
    "    df2 = df.filter(df[\"HalvesDelay\"]==1).groupBy(\"DistGroup\").count().withColumnRenamed(\"count\", \"HalvedPerDistGroup\")\n",
    "    \n",
    "    #DataFrame[DistGroup, FlightsPerDistGroup, HalvedPerDistGroup]\n",
    "    df = df1.join(df2, \"DistGroup\")\n",
    "    \n",
    "    return df"
   ]
  },
  {
   "cell_type": "code",
   "execution_count": 6,
   "metadata": {},
   "outputs": [],
   "source": [
    "finalPath = \"./Results/Query3/query3.csv\"\n",
    "years = list(range(1994, 2009,1))\n",
    "\n",
    "# For every year, it computes the total amount of flights and the amount of those who managed to halve their delay\n",
    "# per distance group. Then it adds it to dfFinal dataframe.\n",
    "for y in years:\n",
    "    tmpDf = halvesDelay(y)\n",
    "    if (y==1994):\n",
    "        dfFinal = tmpDf\n",
    "    else:\n",
    "        dfFinal = dfFinal.union(tmpDf)\n",
    "        \n",
    "# Sums the two counters for every distance group\n",
    "dfFinal = dfFinal.groupBy(\"DistGroup\").sum(\"HalvedPerDistGroup\", \"FlightsPerDistGroup\") \\\n",
    "                .withColumnRenamed(\"sum(HalvedPerDistGroup)\", \"HalvedPerDistGroup\") \\\n",
    "                .withColumnRenamed(\"sum(FlightsPerDistGroup)\", \"FlightsPerDistGroup\") \n",
    "dfFinal = dfFinal.withColumn(\"PercHalved\", dfFinal[\"HalvedPerDistGroup\"]/dfFinal[\"FlightsPerDistGroup\"])\n",
    "    \n",
    "# Writes the result on csv\n",
    "with open(finalPath, 'a') as f:     \n",
    "    dfFinal.toPandas().to_csv(f, header=True)\n",
    "        "
   ]
  }
 ],
 "metadata": {
  "kernelspec": {
   "display_name": "Python 3",
   "language": "python",
   "name": "python3"
  },
  "language_info": {
   "codemirror_mode": {
    "name": "ipython",
    "version": 3
   },
   "file_extension": ".py",
   "mimetype": "text/x-python",
   "name": "python",
   "nbconvert_exporter": "python",
   "pygments_lexer": "ipython3",
   "version": "3.7.0"
  }
 },
 "nbformat": 4,
 "nbformat_minor": 2
}
